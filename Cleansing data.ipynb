{
 "cells": [
  {
   "cell_type": "markdown",
   "metadata": {},
   "source": [
    "# Dissertation\n"
   ]
  },
  {
   "cell_type": "markdown",
   "metadata": {},
   "source": [
    "Module number: BNM832\n",
    "\n",
    "Student Name: Chayut Sangsuwan\n",
    "    \n",
    "Student number: 220265483"
   ]
  },
  {
   "cell_type": "markdown",
   "metadata": {},
   "source": [
    "# 4. Data Processing\n"
   ]
  },
  {
   "cell_type": "markdown",
   "metadata": {},
   "source": [
    "## 4.1 Import Raw Data and Library "
   ]
  },
  {
   "cell_type": "code",
   "execution_count": 101,
   "metadata": {},
   "outputs": [],
   "source": [
    "from datetime import datetime\n",
    "import time\n",
    "import numpy as np\n",
    "import pandas as pd\n",
    "import matplotlib.pyplot as plt\n",
    "\n",
    "import seaborn as sns\n",
    "\n",
    "\n",
    "import io\n",
    "from nbformat import read, NO_CONVERT\n",
    "import warnings\n",
    "warnings.filterwarnings(\"ignore\")"
   ]
  },
  {
   "cell_type": "code",
   "execution_count": 102,
   "metadata": {},
   "outputs": [],
   "source": [
    "# Load the data\n",
    "df = pd.read_csv(\"Raw_data.csv\")"
   ]
  },
  {
   "cell_type": "code",
   "execution_count": 103,
   "metadata": {},
   "outputs": [
    {
     "data": {
      "text/html": [
       "<div>\n",
       "<style scoped>\n",
       "    .dataframe tbody tr th:only-of-type {\n",
       "        vertical-align: middle;\n",
       "    }\n",
       "\n",
       "    .dataframe tbody tr th {\n",
       "        vertical-align: top;\n",
       "    }\n",
       "\n",
       "    .dataframe thead th {\n",
       "        text-align: right;\n",
       "    }\n",
       "</style>\n",
       "<table border=\"1\" class=\"dataframe\">\n",
       "  <thead>\n",
       "    <tr style=\"text-align: right;\">\n",
       "      <th></th>\n",
       "      <th>bullet_point</th>\n",
       "      <th>category</th>\n",
       "      <th>category_url</th>\n",
       "      <th>clickthrough_url</th>\n",
       "      <th>close_date</th>\n",
       "      <th>currency</th>\n",
       "      <th>funds_raised_amount</th>\n",
       "      <th>funds_raised_percent</th>\n",
       "      <th>image_url</th>\n",
       "      <th>is_indemand</th>\n",
       "      <th>...</th>\n",
       "      <th>price_offered</th>\n",
       "      <th>price_retail</th>\n",
       "      <th>product_stage</th>\n",
       "      <th>project_id</th>\n",
       "      <th>project_type</th>\n",
       "      <th>source_url</th>\n",
       "      <th>tagline</th>\n",
       "      <th>tags</th>\n",
       "      <th>title</th>\n",
       "      <th>is_proven</th>\n",
       "    </tr>\n",
       "  </thead>\n",
       "  <tbody>\n",
       "    <tr>\n",
       "      <th>0</th>\n",
       "      <td>NaN</td>\n",
       "      <td>Podcasts, Blogs &amp; Vlogs</td>\n",
       "      <td>/explore/podcasts-blogs-vlogs</td>\n",
       "      <td>/projects/support-bricking-around</td>\n",
       "      <td>2017-04-30T23:59:59-07:00</td>\n",
       "      <td>AUD</td>\n",
       "      <td>75</td>\n",
       "      <td>0.075000</td>\n",
       "      <td>https://c1.iggcdn.com/indiegogo-media-prod-cld...</td>\n",
       "      <td>False</td>\n",
       "      <td>...</td>\n",
       "      <td>NaN</td>\n",
       "      <td>NaN</td>\n",
       "      <td>NaN</td>\n",
       "      <td>2077214</td>\n",
       "      <td>campaign</td>\n",
       "      <td>https://www.indiegogo.com/explore/all?project_...</td>\n",
       "      <td>This is your chance to help make Bricking Arou...</td>\n",
       "      <td>[\"youtube\"]</td>\n",
       "      <td>Support Bricking Around</td>\n",
       "      <td>NaN</td>\n",
       "    </tr>\n",
       "    <tr>\n",
       "      <th>1</th>\n",
       "      <td>NaN</td>\n",
       "      <td>Film</td>\n",
       "      <td>/explore/film</td>\n",
       "      <td>/projects/in-access-thesis-documentary</td>\n",
       "      <td>2020-02-01T23:59:59-08:00</td>\n",
       "      <td>USD</td>\n",
       "      <td>405</td>\n",
       "      <td>0.202500</td>\n",
       "      <td>https://c1.iggcdn.com/indiegogo-media-prod-cld...</td>\n",
       "      <td>False</td>\n",
       "      <td>...</td>\n",
       "      <td>NaN</td>\n",
       "      <td>NaN</td>\n",
       "      <td>NaN</td>\n",
       "      <td>2570855</td>\n",
       "      <td>campaign</td>\n",
       "      <td>https://www.indiegogo.com/explore/all?project_...</td>\n",
       "      <td>A film about music venues, representation and ...</td>\n",
       "      <td>[\"documentary\",\"students\",\"short film\",\"commun...</td>\n",
       "      <td>In Access Thesis Documentary</td>\n",
       "      <td>NaN</td>\n",
       "    </tr>\n",
       "    <tr>\n",
       "      <th>2</th>\n",
       "      <td>NaN</td>\n",
       "      <td>Productivity</td>\n",
       "      <td>/explore/productivity</td>\n",
       "      <td>/projects/germanicum-arminius-damascus-knives</td>\n",
       "      <td>2019-05-14T23:59:59-07:00</td>\n",
       "      <td>EUR</td>\n",
       "      <td>203788</td>\n",
       "      <td>24.957000</td>\n",
       "      <td>https://c1.iggcdn.com/indiegogo-media-prod-cld...</td>\n",
       "      <td>True</td>\n",
       "      <td>...</td>\n",
       "      <td>NaN</td>\n",
       "      <td>NaN</td>\n",
       "      <td>NaN</td>\n",
       "      <td>2501412</td>\n",
       "      <td>campaign</td>\n",
       "      <td>https://www.indiegogo.com/explore/all?project_...</td>\n",
       "      <td>The most sharp and durable Damascus knife seri...</td>\n",
       "      <td>[\"food\",\"knives\",\"kitchen\"]</td>\n",
       "      <td>Germanicum Arminius Damascus knives</td>\n",
       "      <td>NaN</td>\n",
       "    </tr>\n",
       "    <tr>\n",
       "      <th>3</th>\n",
       "      <td>NaN</td>\n",
       "      <td>Photography</td>\n",
       "      <td>/explore/photography</td>\n",
       "      <td>/projects/photography-editorial-course-with-ni...</td>\n",
       "      <td>2015-08-30T23:59:59-07:00</td>\n",
       "      <td>GBP</td>\n",
       "      <td>25</td>\n",
       "      <td>0.027778</td>\n",
       "      <td>https://c1.iggcdn.com/indiegogo-media-prod-cld...</td>\n",
       "      <td>False</td>\n",
       "      <td>...</td>\n",
       "      <td>NaN</td>\n",
       "      <td>NaN</td>\n",
       "      <td>NaN</td>\n",
       "      <td>1380274</td>\n",
       "      <td>campaign</td>\n",
       "      <td>https://www.indiegogo.com/explore/all?project_...</td>\n",
       "      <td>Opportunity to learn all Nick has learned in h...</td>\n",
       "      <td>[\"other\"]</td>\n",
       "      <td>Photography Editorial Course With Nick Knight</td>\n",
       "      <td>NaN</td>\n",
       "    </tr>\n",
       "    <tr>\n",
       "      <th>4</th>\n",
       "      <td>NaN</td>\n",
       "      <td>Food &amp; Beverages</td>\n",
       "      <td>/explore/food-beverages</td>\n",
       "      <td>/projects/the-butcher-the-baker-the-wine-chees...</td>\n",
       "      <td>2012-10-28T23:59:59-07:00</td>\n",
       "      <td>USD</td>\n",
       "      <td>625</td>\n",
       "      <td>0.010870</td>\n",
       "      <td>https://c1.iggcdn.com/indiegogo-media-prod-cld...</td>\n",
       "      <td>False</td>\n",
       "      <td>...</td>\n",
       "      <td>NaN</td>\n",
       "      <td>NaN</td>\n",
       "      <td>NaN</td>\n",
       "      <td>215391</td>\n",
       "      <td>campaign</td>\n",
       "      <td>https://www.indiegogo.com/explore/all?project_...</td>\n",
       "      <td>Curated by food and wine columnist Jennifer Sc...</td>\n",
       "      <td>[\"other\"]</td>\n",
       "      <td>The Butcher, The Baker, The Wine &amp; Cheese Make...</td>\n",
       "      <td>NaN</td>\n",
       "    </tr>\n",
       "  </tbody>\n",
       "</table>\n",
       "<p>5 rows × 25 columns</p>\n",
       "</div>"
      ],
      "text/plain": [
       "  bullet_point                 category                   category_url  \\\n",
       "0          NaN  Podcasts, Blogs & Vlogs  /explore/podcasts-blogs-vlogs   \n",
       "1          NaN                     Film                  /explore/film   \n",
       "2          NaN             Productivity          /explore/productivity   \n",
       "3          NaN              Photography           /explore/photography   \n",
       "4          NaN         Food & Beverages        /explore/food-beverages   \n",
       "\n",
       "                                    clickthrough_url  \\\n",
       "0                  /projects/support-bricking-around   \n",
       "1             /projects/in-access-thesis-documentary   \n",
       "2      /projects/germanicum-arminius-damascus-knives   \n",
       "3  /projects/photography-editorial-course-with-ni...   \n",
       "4  /projects/the-butcher-the-baker-the-wine-chees...   \n",
       "\n",
       "                  close_date currency  funds_raised_amount  \\\n",
       "0  2017-04-30T23:59:59-07:00      AUD                   75   \n",
       "1  2020-02-01T23:59:59-08:00      USD                  405   \n",
       "2  2019-05-14T23:59:59-07:00      EUR               203788   \n",
       "3  2015-08-30T23:59:59-07:00      GBP                   25   \n",
       "4  2012-10-28T23:59:59-07:00      USD                  625   \n",
       "\n",
       "   funds_raised_percent                                          image_url  \\\n",
       "0              0.075000  https://c1.iggcdn.com/indiegogo-media-prod-cld...   \n",
       "1              0.202500  https://c1.iggcdn.com/indiegogo-media-prod-cld...   \n",
       "2             24.957000  https://c1.iggcdn.com/indiegogo-media-prod-cld...   \n",
       "3              0.027778  https://c1.iggcdn.com/indiegogo-media-prod-cld...   \n",
       "4              0.010870  https://c1.iggcdn.com/indiegogo-media-prod-cld...   \n",
       "\n",
       "   is_indemand  ...  price_offered  price_retail product_stage  project_id  \\\n",
       "0        False  ...            NaN           NaN           NaN     2077214   \n",
       "1        False  ...            NaN           NaN           NaN     2570855   \n",
       "2         True  ...            NaN           NaN           NaN     2501412   \n",
       "3        False  ...            NaN           NaN           NaN     1380274   \n",
       "4        False  ...            NaN           NaN           NaN      215391   \n",
       "\n",
       "   project_type                                         source_url  \\\n",
       "0      campaign  https://www.indiegogo.com/explore/all?project_...   \n",
       "1      campaign  https://www.indiegogo.com/explore/all?project_...   \n",
       "2      campaign  https://www.indiegogo.com/explore/all?project_...   \n",
       "3      campaign  https://www.indiegogo.com/explore/all?project_...   \n",
       "4      campaign  https://www.indiegogo.com/explore/all?project_...   \n",
       "\n",
       "                                             tagline  \\\n",
       "0  This is your chance to help make Bricking Arou...   \n",
       "1  A film about music venues, representation and ...   \n",
       "2  The most sharp and durable Damascus knife seri...   \n",
       "3  Opportunity to learn all Nick has learned in h...   \n",
       "4  Curated by food and wine columnist Jennifer Sc...   \n",
       "\n",
       "                                                tags  \\\n",
       "0                                        [\"youtube\"]   \n",
       "1  [\"documentary\",\"students\",\"short film\",\"commun...   \n",
       "2                        [\"food\",\"knives\",\"kitchen\"]   \n",
       "3                                          [\"other\"]   \n",
       "4                                          [\"other\"]   \n",
       "\n",
       "                                               title is_proven  \n",
       "0                            Support Bricking Around       NaN  \n",
       "1                       In Access Thesis Documentary       NaN  \n",
       "2                Germanicum Arminius Damascus knives       NaN  \n",
       "3      Photography Editorial Course With Nick Knight       NaN  \n",
       "4  The Butcher, The Baker, The Wine & Cheese Make...       NaN  \n",
       "\n",
       "[5 rows x 25 columns]"
      ]
     },
     "execution_count": 103,
     "metadata": {},
     "output_type": "execute_result"
    }
   ],
   "source": [
    "df.head()"
   ]
  },
  {
   "cell_type": "markdown",
   "metadata": {},
   "source": [
    "## 4.2 Remove Duplicate data\n"
   ]
  },
  {
   "cell_type": "code",
   "execution_count": 104,
   "metadata": {},
   "outputs": [],
   "source": [
    "df.drop_duplicates(inplace=True)"
   ]
  },
  {
   "cell_type": "markdown",
   "metadata": {},
   "source": [
    "## 4.3 Remove un-nessessary column"
   ]
  },
  {
   "cell_type": "code",
   "execution_count": 105,
   "metadata": {},
   "outputs": [
    {
     "name": "stdout",
     "output_type": "stream",
     "text": [
      "<class 'pandas.core.frame.DataFrame'>\n",
      "Int64Index: 143832 entries, 0 to 143831\n",
      "Data columns (total 25 columns):\n",
      " #   Column                Non-Null Count   Dtype  \n",
      "---  ------                --------------   -----  \n",
      " 0   bullet_point          1466 non-null    object \n",
      " 1   category              143832 non-null  object \n",
      " 2   category_url          143832 non-null  object \n",
      " 3   clickthrough_url      143832 non-null  object \n",
      " 4   close_date            142385 non-null  object \n",
      " 5   currency              143832 non-null  object \n",
      " 6   funds_raised_amount   143832 non-null  int64  \n",
      " 7   funds_raised_percent  143832 non-null  float64\n",
      " 8   image_url             143832 non-null  object \n",
      " 9   is_indemand           143832 non-null  bool   \n",
      " 10  is_pre_launch         143832 non-null  bool   \n",
      " 11  offered_by            0 non-null       float64\n",
      " 12  open_date             142364 non-null  object \n",
      " 13  perk_goal_percentage  86 non-null      float64\n",
      " 14  perks_claimed         86 non-null      float64\n",
      " 15  price_offered         0 non-null       float64\n",
      " 16  price_retail          0 non-null       float64\n",
      " 17  product_stage         18994 non-null   object \n",
      " 18  project_id            143832 non-null  int64  \n",
      " 19  project_type          143832 non-null  object \n",
      " 20  source_url            143832 non-null  object \n",
      " 21  tagline               143781 non-null  object \n",
      " 22  tags                  143260 non-null  object \n",
      " 23  title                 143811 non-null  object \n",
      " 24  is_proven             46894 non-null   object \n",
      "dtypes: bool(2), float64(6), int64(2), object(15)\n",
      "memory usage: 26.6+ MB\n"
     ]
    }
   ],
   "source": [
    "# Inspect Data\n",
    "df.info()"
   ]
  },
  {
   "cell_type": "code",
   "execution_count": 106,
   "metadata": {},
   "outputs": [],
   "source": [
    "# Drop Column\n",
    "df.drop('bullet_point', axis=1, inplace=True)\n",
    "df.drop('offered_by', axis=1, inplace=True)\n",
    "df.drop('price_offered', axis=1, inplace=True)\n",
    "df.drop('price_retail', axis=1, inplace=True)\n",
    "df.drop('category_url', axis=1, inplace=True)\n",
    "df.drop('clickthrough_url', axis=1, inplace=True)\n",
    "df.drop('image_url', axis=1, inplace=True)\n",
    "df.drop('source_url', axis=1, inplace=True)"
   ]
  },
  {
   "cell_type": "markdown",
   "metadata": {},
   "source": [
    "## 4.4 Changing Datatype & Format\n"
   ]
  },
  {
   "cell_type": "markdown",
   "metadata": {},
   "source": [
    "### 4.4.1 Date-time"
   ]
  },
  {
   "cell_type": "markdown",
   "metadata": {},
   "source": [
    "- Change \"Close date\" to date-time format"
   ]
  },
  {
   "cell_type": "code",
   "execution_count": 107,
   "metadata": {},
   "outputs": [
    {
     "data": {
      "text/plain": [
       "0         2017-05-01 06:59:59 UTC\n",
       "1         2020-02-02 07:59:59 UTC\n",
       "2         2019-05-15 06:59:59 UTC\n",
       "3         2015-08-31 06:59:59 UTC\n",
       "4         2012-10-29 06:59:59 UTC\n",
       "                   ...           \n",
       "143827    2022-11-19 07:59:59 UTC\n",
       "143828    2022-12-23 07:59:59 UTC\n",
       "143829    2021-06-22 06:59:59 UTC\n",
       "143830    2022-11-24 07:59:59 UTC\n",
       "143831    2021-12-07 07:59:59 UTC\n",
       "Name: close_date, Length: 143832, dtype: object"
      ]
     },
     "execution_count": 107,
     "metadata": {},
     "output_type": "execute_result"
    }
   ],
   "source": [
    "# Convert \"close_date\" column to datetime objects with timezone information\n",
    "df['close_date'] = pd.to_datetime(df['close_date'], utc=True)\n",
    "\n",
    "# Format \"close_date\" column to a desired string format\n",
    "df['close_date'] = df['close_date'].dt.strftime(\"%Y-%m-%d %H:%M:%S %Z\")\n",
    "\n",
    "df['close_date']"
   ]
  },
  {
   "cell_type": "markdown",
   "metadata": {},
   "source": [
    "- Change \"Open date\" to date-time format"
   ]
  },
  {
   "cell_type": "code",
   "execution_count": 108,
   "metadata": {},
   "outputs": [
    {
     "data": {
      "text/plain": [
       "0         2017-03-31 21:53:38 UTC\n",
       "1         2020-01-02 08:00:00 UTC\n",
       "2         2019-05-14 06:59:59 UTC\n",
       "3         2015-08-02 23:39:33 UTC\n",
       "4         2012-08-29 19:58:06 UTC\n",
       "                   ...           \n",
       "143827    2022-11-18 07:59:59 UTC\n",
       "143828    2022-11-22 08:00:00 UTC\n",
       "143829    2021-06-21 06:59:59 UTC\n",
       "143830    2022-11-23 07:59:59 UTC\n",
       "143831    2021-10-18 07:00:00 UTC\n",
       "Name: open_date, Length: 143832, dtype: object"
      ]
     },
     "execution_count": 108,
     "metadata": {},
     "output_type": "execute_result"
    }
   ],
   "source": [
    "# Convert \"close_date\" column to datetime objects with timezone information\n",
    "df['open_date'] = pd.to_datetime(df['open_date'], utc=True)\n",
    "\n",
    "# Format \"close_date\" column to a desired string format\n",
    "df['open_date'] = df['open_date'].dt.strftime(\"%Y-%m-%d %H:%M:%S %Z\")\n",
    "\n",
    "df['open_date']"
   ]
  },
  {
   "cell_type": "markdown",
   "metadata": {},
   "source": [
    "### 4.4.2 Format Percentage column"
   ]
  },
  {
   "cell_type": "code",
   "execution_count": 109,
   "metadata": {},
   "outputs": [
    {
     "data": {
      "text/plain": [
       "0          0.075000\n",
       "1          0.202500\n",
       "2         24.957000\n",
       "3          0.027778\n",
       "4          0.010870\n",
       "            ...    \n",
       "143827    98.086667\n",
       "143828    34.552500\n",
       "143829    20.204758\n",
       "143830    41.470300\n",
       "143831    14.716050\n",
       "Name: funds_raised_percent, Length: 143832, dtype: float64"
      ]
     },
     "execution_count": 109,
     "metadata": {},
     "output_type": "execute_result"
    }
   ],
   "source": [
    "df['funds_raised_percent'] "
   ]
  },
  {
   "cell_type": "markdown",
   "metadata": {},
   "source": [
    "## 4.5 Dealing with Missing value"
   ]
  },
  {
   "cell_type": "code",
   "execution_count": 110,
   "metadata": {},
   "outputs": [
    {
     "name": "stdout",
     "output_type": "stream",
     "text": [
      "<class 'pandas.core.frame.DataFrame'>\n",
      "Int64Index: 143832 entries, 0 to 143831\n",
      "Data columns (total 17 columns):\n",
      " #   Column                Non-Null Count   Dtype  \n",
      "---  ------                --------------   -----  \n",
      " 0   category              143832 non-null  object \n",
      " 1   close_date            142385 non-null  object \n",
      " 2   currency              143832 non-null  object \n",
      " 3   funds_raised_amount   143832 non-null  int64  \n",
      " 4   funds_raised_percent  143832 non-null  float64\n",
      " 5   is_indemand           143832 non-null  bool   \n",
      " 6   is_pre_launch         143832 non-null  bool   \n",
      " 7   open_date             142364 non-null  object \n",
      " 8   perk_goal_percentage  86 non-null      float64\n",
      " 9   perks_claimed         86 non-null      float64\n",
      " 10  product_stage         18994 non-null   object \n",
      " 11  project_id            143832 non-null  int64  \n",
      " 12  project_type          143832 non-null  object \n",
      " 13  tagline               143781 non-null  object \n",
      " 14  tags                  143260 non-null  object \n",
      " 15  title                 143811 non-null  object \n",
      " 16  is_proven             46894 non-null   object \n",
      "dtypes: bool(2), float64(3), int64(2), object(10)\n",
      "memory usage: 17.8+ MB\n"
     ]
    }
   ],
   "source": [
    "# Check Missing Value\n",
    "df.info()"
   ]
  },
  {
   "cell_type": "markdown",
   "metadata": {},
   "source": [
    "## 4.6 Fill-in Null Data"
   ]
  },
  {
   "cell_type": "markdown",
   "metadata": {},
   "source": [
    "- Fill in Column \"Product Stage\""
   ]
  },
  {
   "cell_type": "code",
   "execution_count": 111,
   "metadata": {},
   "outputs": [
    {
     "data": {
      "text/plain": [
       "array([nan, 'shipping', 'prototype', 'production', 'concept'],\n",
       "      dtype=object)"
      ]
     },
     "execution_count": 111,
     "metadata": {},
     "output_type": "execute_result"
    }
   ],
   "source": [
    "df[\"product_stage\"].unique()"
   ]
  },
  {
   "cell_type": "code",
   "execution_count": 112,
   "metadata": {},
   "outputs": [
    {
     "data": {
      "text/plain": [
       "124838"
      ]
     },
     "execution_count": 112,
     "metadata": {},
     "output_type": "execute_result"
    }
   ],
   "source": [
    "df['product_stage'].isnull().sum()"
   ]
  },
  {
   "cell_type": "code",
   "execution_count": 113,
   "metadata": {},
   "outputs": [],
   "source": [
    "df['product_stage'] = df['product_stage'].fillna(\"Non Specify\")"
   ]
  },
  {
   "cell_type": "code",
   "execution_count": 114,
   "metadata": {},
   "outputs": [
    {
     "data": {
      "text/plain": [
       "0"
      ]
     },
     "execution_count": 114,
     "metadata": {},
     "output_type": "execute_result"
    }
   ],
   "source": [
    "df['product_stage'].isnull().sum()"
   ]
  },
  {
   "cell_type": "markdown",
   "metadata": {},
   "source": [
    "- Fill Null in Column \"is_proven\" with False"
   ]
  },
  {
   "cell_type": "code",
   "execution_count": 115,
   "metadata": {},
   "outputs": [
    {
     "data": {
      "text/plain": [
       "array([nan, False, True], dtype=object)"
      ]
     },
     "execution_count": 115,
     "metadata": {},
     "output_type": "execute_result"
    }
   ],
   "source": [
    "df[\"is_proven\"].unique()"
   ]
  },
  {
   "cell_type": "code",
   "execution_count": 116,
   "metadata": {},
   "outputs": [
    {
     "data": {
      "text/plain": [
       "96938"
      ]
     },
     "execution_count": 116,
     "metadata": {},
     "output_type": "execute_result"
    }
   ],
   "source": [
    "df['is_proven'].isnull().sum()"
   ]
  },
  {
   "cell_type": "code",
   "execution_count": 117,
   "metadata": {},
   "outputs": [],
   "source": [
    "df['is_proven'] = df['is_proven'].fillna(False).astype(bool)"
   ]
  },
  {
   "cell_type": "code",
   "execution_count": 118,
   "metadata": {},
   "outputs": [
    {
     "data": {
      "text/plain": [
       "0"
      ]
     },
     "execution_count": 118,
     "metadata": {},
     "output_type": "execute_result"
    }
   ],
   "source": [
    "df['is_proven'].isnull().sum()"
   ]
  },
  {
   "cell_type": "code",
   "execution_count": 119,
   "metadata": {},
   "outputs": [
    {
     "data": {
      "text/plain": [
       "array([False,  True])"
      ]
     },
     "execution_count": 119,
     "metadata": {},
     "output_type": "execute_result"
    }
   ],
   "source": [
    "df[\"is_proven\"].unique()"
   ]
  },
  {
   "cell_type": "markdown",
   "metadata": {},
   "source": [
    "- Fill Null in Column \"perks_claimed\" with 0"
   ]
  },
  {
   "cell_type": "code",
   "execution_count": 120,
   "metadata": {},
   "outputs": [
    {
     "data": {
      "text/plain": [
       "143746"
      ]
     },
     "execution_count": 120,
     "metadata": {},
     "output_type": "execute_result"
    }
   ],
   "source": [
    "df['perks_claimed'].isnull().sum()"
   ]
  },
  {
   "cell_type": "code",
   "execution_count": 121,
   "metadata": {},
   "outputs": [
    {
     "data": {
      "text/plain": [
       "0         0.0\n",
       "1         0.0\n",
       "2         0.0\n",
       "3         0.0\n",
       "4         0.0\n",
       "         ... \n",
       "143827    0.0\n",
       "143828    0.0\n",
       "143829    0.0\n",
       "143830    0.0\n",
       "143831    0.0\n",
       "Name: perks_claimed, Length: 143832, dtype: float64"
      ]
     },
     "execution_count": 121,
     "metadata": {},
     "output_type": "execute_result"
    }
   ],
   "source": [
    "df['perks_claimed'] = df['perks_claimed'].fillna(0)\n",
    "df['perks_claimed']"
   ]
  },
  {
   "cell_type": "code",
   "execution_count": 122,
   "metadata": {},
   "outputs": [
    {
     "data": {
      "text/plain": [
       "0"
      ]
     },
     "execution_count": 122,
     "metadata": {},
     "output_type": "execute_result"
    }
   ],
   "source": [
    "df['perks_claimed'].isnull().sum()"
   ]
  },
  {
   "cell_type": "markdown",
   "metadata": {},
   "source": [
    "- Fill Null in Column \"perk_goal_percentage\" with 0"
   ]
  },
  {
   "cell_type": "code",
   "execution_count": 123,
   "metadata": {},
   "outputs": [
    {
     "data": {
      "text/plain": [
       "0         0.0\n",
       "1         0.0\n",
       "2         0.0\n",
       "3         0.0\n",
       "4         0.0\n",
       "         ... \n",
       "143827    0.0\n",
       "143828    0.0\n",
       "143829    0.0\n",
       "143830    0.0\n",
       "143831    0.0\n",
       "Name: perk_goal_percentage, Length: 143832, dtype: float64"
      ]
     },
     "execution_count": 123,
     "metadata": {},
     "output_type": "execute_result"
    }
   ],
   "source": [
    "df['perk_goal_percentage'] = df['perk_goal_percentage'].fillna(0)\n",
    "df['perk_goal_percentage']"
   ]
  },
  {
   "cell_type": "code",
   "execution_count": 124,
   "metadata": {},
   "outputs": [
    {
     "data": {
      "text/plain": [
       "0"
      ]
     },
     "execution_count": 124,
     "metadata": {},
     "output_type": "execute_result"
    }
   ],
   "source": [
    "df['perks_claimed'].isnull().sum()"
   ]
  },
  {
   "cell_type": "code",
   "execution_count": 125,
   "metadata": {},
   "outputs": [
    {
     "name": "stdout",
     "output_type": "stream",
     "text": [
      "<class 'pandas.core.frame.DataFrame'>\n",
      "Int64Index: 143832 entries, 0 to 143831\n",
      "Data columns (total 17 columns):\n",
      " #   Column                Non-Null Count   Dtype  \n",
      "---  ------                --------------   -----  \n",
      " 0   category              143832 non-null  object \n",
      " 1   close_date            142385 non-null  object \n",
      " 2   currency              143832 non-null  object \n",
      " 3   funds_raised_amount   143832 non-null  int64  \n",
      " 4   funds_raised_percent  143832 non-null  float64\n",
      " 5   is_indemand           143832 non-null  bool   \n",
      " 6   is_pre_launch         143832 non-null  bool   \n",
      " 7   open_date             142364 non-null  object \n",
      " 8   perk_goal_percentage  143832 non-null  float64\n",
      " 9   perks_claimed         143832 non-null  float64\n",
      " 10  product_stage         143832 non-null  object \n",
      " 11  project_id            143832 non-null  int64  \n",
      " 12  project_type          143832 non-null  object \n",
      " 13  tagline               143781 non-null  object \n",
      " 14  tags                  143260 non-null  object \n",
      " 15  title                 143811 non-null  object \n",
      " 16  is_proven             143832 non-null  bool   \n",
      "dtypes: bool(3), float64(3), int64(2), object(9)\n",
      "memory usage: 16.9+ MB\n"
     ]
    }
   ],
   "source": [
    "# Check Missing Value\n",
    "df.info()"
   ]
  },
  {
   "cell_type": "code",
   "execution_count": 126,
   "metadata": {},
   "outputs": [
    {
     "data": {
      "text/plain": [
       "1447"
      ]
     },
     "execution_count": 126,
     "metadata": {},
     "output_type": "execute_result"
    }
   ],
   "source": [
    "df['close_date'].isnull().sum()"
   ]
  },
  {
   "cell_type": "markdown",
   "metadata": {},
   "source": [
    "## 4.7 Drop Null Row"
   ]
  },
  {
   "cell_type": "code",
   "execution_count": 127,
   "metadata": {},
   "outputs": [],
   "source": [
    "df = df.dropna()"
   ]
  },
  {
   "cell_type": "code",
   "execution_count": 128,
   "metadata": {},
   "outputs": [
    {
     "name": "stdout",
     "output_type": "stream",
     "text": [
      "<class 'pandas.core.frame.DataFrame'>\n",
      "Int64Index: 142246 entries, 0 to 143831\n",
      "Data columns (total 17 columns):\n",
      " #   Column                Non-Null Count   Dtype  \n",
      "---  ------                --------------   -----  \n",
      " 0   category              142246 non-null  object \n",
      " 1   close_date            142246 non-null  object \n",
      " 2   currency              142246 non-null  object \n",
      " 3   funds_raised_amount   142246 non-null  int64  \n",
      " 4   funds_raised_percent  142246 non-null  float64\n",
      " 5   is_indemand           142246 non-null  bool   \n",
      " 6   is_pre_launch         142246 non-null  bool   \n",
      " 7   open_date             142246 non-null  object \n",
      " 8   perk_goal_percentage  142246 non-null  float64\n",
      " 9   perks_claimed         142246 non-null  float64\n",
      " 10  product_stage         142246 non-null  object \n",
      " 11  project_id            142246 non-null  int64  \n",
      " 12  project_type          142246 non-null  object \n",
      " 13  tagline               142246 non-null  object \n",
      " 14  tags                  142246 non-null  object \n",
      " 15  title                 142246 non-null  object \n",
      " 16  is_proven             142246 non-null  bool   \n",
      "dtypes: bool(3), float64(3), int64(2), object(9)\n",
      "memory usage: 16.7+ MB\n"
     ]
    }
   ],
   "source": [
    "# Check Missing Value\n",
    "df.info()"
   ]
  },
  {
   "cell_type": "code",
   "execution_count": 129,
   "metadata": {},
   "outputs": [
    {
     "name": "stdout",
     "output_type": "stream",
     "text": [
      "                       category               close_date currency  \\\n",
      "0       Podcasts, Blogs & Vlogs  2017-05-01 06:59:59 UTC      AUD   \n",
      "2                  Productivity  2019-05-15 06:59:59 UTC      EUR   \n",
      "3                   Photography  2015-08-31 06:59:59 UTC      GBP   \n",
      "5                      Wellness  2014-04-05 06:59:59 UTC      USD   \n",
      "8              Health & Fitness  2017-01-15 07:59:59 UTC      USD   \n",
      "...                         ...                      ...      ...   \n",
      "143827             Productivity  2022-11-19 07:59:59 UTC      USD   \n",
      "143828     Phones & Accessories  2022-12-23 07:59:59 UTC      HKD   \n",
      "143829     Phones & Accessories  2021-06-22 06:59:59 UTC      USD   \n",
      "143830                     Home  2022-11-24 07:59:59 UTC      USD   \n",
      "143831         Health & Fitness  2021-12-07 07:59:59 UTC      USD   \n",
      "\n",
      "        funds_raised_amount  funds_raised_percent  is_indemand  is_pre_launch  \\\n",
      "0                        75              0.075000        False          False   \n",
      "2                    203788             24.957000         True          False   \n",
      "3                        25              0.027778        False          False   \n",
      "5                       305              0.549550        False          False   \n",
      "8                   3995835             21.008400        False          False   \n",
      "...                     ...                   ...          ...            ...   \n",
      "143827               156952             98.086667         True          False   \n",
      "143828               691050             34.552500        False          False   \n",
      "143829               446750             20.204758         True          False   \n",
      "143830               455072             41.470300         True          False   \n",
      "143831               906358             14.716050         True          False   \n",
      "\n",
      "                      open_date  perk_goal_percentage  perks_claimed  \\\n",
      "0       2017-03-31 21:53:38 UTC                   0.0            0.0   \n",
      "2       2019-05-14 06:59:59 UTC                   0.0            0.0   \n",
      "3       2015-08-02 23:39:33 UTC                   0.0            0.0   \n",
      "5       2014-03-05 20:39:02 UTC                   0.0            0.0   \n",
      "8       2016-11-15 09:02:19 UTC                   0.0            0.0   \n",
      "...                         ...                   ...            ...   \n",
      "143827  2022-11-18 07:59:59 UTC                   0.0            0.0   \n",
      "143828  2022-11-22 08:00:00 UTC                   0.0            0.0   \n",
      "143829  2021-06-21 06:59:59 UTC                   0.0            0.0   \n",
      "143830  2022-11-23 07:59:59 UTC                   0.0            0.0   \n",
      "143831  2021-10-18 07:00:00 UTC                   0.0            0.0   \n",
      "\n",
      "       product_stage  project_id project_type  \\\n",
      "0        Non Specify     2077214     campaign   \n",
      "2        Non Specify     2501412     campaign   \n",
      "3        Non Specify     1380274     campaign   \n",
      "5        Non Specify      704128     campaign   \n",
      "8           shipping     1919607     campaign   \n",
      "...              ...         ...          ...   \n",
      "143827    production     2686587     campaign   \n",
      "143828    production     2791888     campaign   \n",
      "143829     prototype     2685949     campaign   \n",
      "143830   Non Specify     2793011     campaign   \n",
      "143831      shipping     2687321     campaign   \n",
      "\n",
      "                                                  tagline  \\\n",
      "0       This is your chance to help make Bricking Arou...   \n",
      "2       The most sharp and durable Damascus knife seri...   \n",
      "3       Opportunity to learn all Nick has learned in h...   \n",
      "5       Please help me to celebrate and pray with the ...   \n",
      "8       \"I feel fantastic\" Train hard for fitness or e...   \n",
      "...                                                   ...   \n",
      "143827  Effortless eye contact | Amazing image quality...   \n",
      "143828  Max 67W Output| 3 USB-C Ports | Ultra-Tiny | R...   \n",
      "143829  Tstand 2 holds ALL devices: iPhone, Switch, iP...   \n",
      "143830  Sleep better with the only pure graphene blank...   \n",
      "143831  Dual Red Light Therapy | Portable | Whole Knee...   \n",
      "\n",
      "                                                     tags  \\\n",
      "0                                             [\"youtube\"]   \n",
      "2                             [\"food\",\"knives\",\"kitchen\"]   \n",
      "3                                               [\"other\"]   \n",
      "5                                               [\"other\"]   \n",
      "8                         [\"sports\",\"software\",\"e-bikes\"]   \n",
      "...                                                   ...   \n",
      "143827                            [\"computers\",\"laptops\"]   \n",
      "143828                                  [\"chargers\",\"pc\"]   \n",
      "143829  [\"design\",\"iphone\",\"smart phones\",\"other\",\"lap...   \n",
      "143830     [\"sleep\",\"beds\",\"pillows\",\"design\",\"clothing\"]   \n",
      "143831                       [\"design\",\"sports\",\"hiking\"]   \n",
      "\n",
      "                                                    title  is_proven  \n",
      "0                                 Support Bricking Around      False  \n",
      "2                     Germanicum Arminius Damascus knives      False  \n",
      "3           Photography Editorial Course With Nick Knight      False  \n",
      "5                    Oh, to Pray with the Grandmothers!!!      False  \n",
      "8                BionicGym Workout in a box! Now shipping      False  \n",
      "...                                                   ...        ...  \n",
      "143827             iContact Camera for better video calls      False  \n",
      "143828  SHARGEEK: The First 67W Charger With Power Dis...      False  \n",
      "143829  TSTAND2 iPad & Everything Stand Works Everywhere!      False  \n",
      "143830       HILU: Natural Thermoregulating Sleep Blanket      False  \n",
      "143831        Move Plus: Reduce Knee Pain In Just One Use      False  \n",
      "\n",
      "[112488 rows x 17 columns]\n"
     ]
    }
   ],
   "source": [
    "# Check for duplicates based on the specified column\n",
    "duplicates = df.duplicated(subset='project_id', keep=False)\n",
    "\n",
    "# Print the rows that are duplicates\n",
    "print(df[duplicates])"
   ]
  },
  {
   "cell_type": "code",
   "execution_count": 130,
   "metadata": {},
   "outputs": [],
   "source": [
    "# Drop duplicates based on the 'ID' column\n",
    "df = df.drop_duplicates(subset='project_id', keep=\"last\")\n"
   ]
  },
  {
   "cell_type": "code",
   "execution_count": 131,
   "metadata": {},
   "outputs": [
    {
     "name": "stdout",
     "output_type": "stream",
     "text": [
      "Empty DataFrame\n",
      "Columns: [category, close_date, currency, funds_raised_amount, funds_raised_percent, is_indemand, is_pre_launch, open_date, perk_goal_percentage, perks_claimed, product_stage, project_id, project_type, tagline, tags, title, is_proven]\n",
      "Index: []\n"
     ]
    }
   ],
   "source": [
    "# Check for duplicates based on the specified column\n",
    "duplicates = df.duplicated(subset='project_id', keep=False)\n",
    "\n",
    "# Print the rows that are duplicates\n",
    "print(df[duplicates])"
   ]
  },
  {
   "cell_type": "code",
   "execution_count": 132,
   "metadata": {},
   "outputs": [
    {
     "name": "stdout",
     "output_type": "stream",
     "text": [
      "<class 'pandas.core.frame.DataFrame'>\n",
      "Int64Index: 65487 entries, 1 to 143831\n",
      "Data columns (total 17 columns):\n",
      " #   Column                Non-Null Count  Dtype  \n",
      "---  ------                --------------  -----  \n",
      " 0   category              65487 non-null  object \n",
      " 1   close_date            65487 non-null  object \n",
      " 2   currency              65487 non-null  object \n",
      " 3   funds_raised_amount   65487 non-null  int64  \n",
      " 4   funds_raised_percent  65487 non-null  float64\n",
      " 5   is_indemand           65487 non-null  bool   \n",
      " 6   is_pre_launch         65487 non-null  bool   \n",
      " 7   open_date             65487 non-null  object \n",
      " 8   perk_goal_percentage  65487 non-null  float64\n",
      " 9   perks_claimed         65487 non-null  float64\n",
      " 10  product_stage         65487 non-null  object \n",
      " 11  project_id            65487 non-null  int64  \n",
      " 12  project_type          65487 non-null  object \n",
      " 13  tagline               65487 non-null  object \n",
      " 14  tags                  65487 non-null  object \n",
      " 15  title                 65487 non-null  object \n",
      " 16  is_proven             65487 non-null  bool   \n",
      "dtypes: bool(3), float64(3), int64(2), object(9)\n",
      "memory usage: 7.7+ MB\n"
     ]
    }
   ],
   "source": [
    "df.info()"
   ]
  },
  {
   "cell_type": "code",
   "execution_count": 133,
   "metadata": {},
   "outputs": [],
   "source": [
    "df.to_csv('Cleaned_data.csv', index=False)"
   ]
  }
 ],
 "metadata": {
  "kernelspec": {
   "display_name": "Python 3",
   "language": "python",
   "name": "python3"
  },
  "language_info": {
   "codemirror_mode": {
    "name": "ipython",
    "version": 3
   },
   "file_extension": ".py",
   "mimetype": "text/x-python",
   "name": "python",
   "nbconvert_exporter": "python",
   "pygments_lexer": "ipython3",
   "version": "3.8.8"
  }
 },
 "nbformat": 4,
 "nbformat_minor": 2
}
